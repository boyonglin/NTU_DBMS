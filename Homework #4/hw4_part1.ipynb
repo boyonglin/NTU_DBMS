{
 "cells": [
  {
   "cell_type": "code",
   "execution_count": 1,
   "metadata": {},
   "outputs": [],
   "source": [
    "import csv\n",
    "import json\n",
    "import mysql.connector\n",
    "import getpass\n",
    "\n",
    "# please modify hw4_config.json to your own config file\n",
    "with open('hw4_config.json') as f:\n",
    "    config = json.load(f)\n",
    "\n",
    "host_name = config['host']\n",
    "user_name = config['user']\n",
    "# passwd = config['passwd']\n",
    "passwd = getpass.getpass(prompt='Enter your password: ')\n",
    "dbms_student_path = config['dbms_student_path']\n",
    "new_student_path = config['new_student_path']"
   ]
  },
  {
   "attachments": {},
   "cell_type": "markdown",
   "metadata": {},
   "source": [
    "## 1-1: Input data into student table"
   ]
  },
  {
   "cell_type": "code",
   "execution_count": 2,
   "metadata": {},
   "outputs": [],
   "source": [
    "mydb = mysql.connector.connect(user=user_name, password=passwd, host=host_name)\n",
    "\n",
    "mycursor = mydb.cursor()\n",
    "mycursor.execute(\"DROP DATABASE IF EXISTS DB_class\")\n",
    "mycursor.execute(\"CREATE DATABASE IF NOT EXISTS DB_class\")\n",
    "mycursor.execute(\"USE DB_class\")\n",
    "\n",
    "TABLES = {}\n",
    "TABLES['students'] = (\n",
    "    \"CREATE TABLE `students` (\"\n",
    "    \"  `role` VARCHAR(3),\"\n",
    "    \"  `department` VARCHAR(255),\"\n",
    "    \"  `grade` INT,\"\n",
    "    \"  `stuID` VARCHAR(10) PRIMARY KEY,\"\n",
    "    \"  `name` VARCHAR(255),\"\n",
    "    \"  `mailbox` VARCHAR(255),\"\n",
    "    \"  `class` VARCHAR(255)\"\n",
    "    \") ENGINE=InnoDB\")\n",
    "\n",
    "mycursor.execute(TABLES['students'])\n",
    "\n",
    "def insert_database(path):\n",
    "    # open the CSV file in read mode\n",
    "    with open(path, encoding='utf-8-sig') as csvfile:\n",
    "        # create a CSV reader object\n",
    "        csvreader = csv.reader(csvfile)\n",
    "        next(csvreader)  # skip header row\n",
    "\n",
    "        add_students = (\"INSERT INTO students (role, department, grade, stuID, name, mailbox, class) VALUES (%s, %s, %s, %s, %s, %s, %s)\")\n",
    "\n",
    "        for row in csvreader:\n",
    "            try:\n",
    "                mycursor.execute(add_students, row)\n",
    "                mydb.commit()\n",
    "            except mysql.connector.Error as err:\n",
    "                print(f\"Error inserting rows: {err}\")\n",
    "                break\n",
    "\n",
    "insert_database(dbms_student_path)\n"
   ]
  },
  {
   "attachments": {},
   "cell_type": "markdown",
   "metadata": {},
   "source": [
    "## 1-2: Read the information about yourself"
   ]
  },
  {
   "cell_type": "code",
   "execution_count": 3,
   "metadata": {},
   "outputs": [
    {
     "name": "stdout",
     "output_type": "stream",
     "text": [
      "('學生', '生醫電資所', 1, 'R10945002', '林柏詠 (LIN, BO-YONG)', 'r10945002@ntu.edu.tw', '資料庫系統-從SQL到NoSQL (EE5178)')\n"
     ]
    }
   ],
   "source": [
    "mycursor.execute(\"SELECT * FROM students where stuID = 'r10945002'\")\n",
    "\n",
    "for i in mycursor:\n",
    "    print(i)"
   ]
  },
  {
   "attachments": {},
   "cell_type": "markdown",
   "metadata": {},
   "source": [
    "## 1-3: Update your own value of the \"身份\" column "
   ]
  },
  {
   "cell_type": "code",
   "execution_count": 4,
   "metadata": {},
   "outputs": [
    {
     "name": "stdout",
     "output_type": "stream",
     "text": [
      "('特優生', '生醫電資所', 1, 'R10945002', '林柏詠 (LIN, BO-YONG)', 'r10945002@ntu.edu.tw', '資料庫系統-從SQL到NoSQL (EE5178)')\n"
     ]
    }
   ],
   "source": [
    "mycursor.execute(\"UPDATE students SET role = '特優生' WHERE role = '學生' AND stuID = 'r10945002'\")\n",
    "\n",
    "mycursor.execute(\"SELECT * FROM students where stuID = 'r10945002'\")\n",
    "\n",
    "for i in mycursor:\n",
    "    print(i)"
   ]
  },
  {
   "attachments": {},
   "cell_type": "markdown",
   "metadata": {},
   "source": [
    "## 1-4: Insert three new students "
   ]
  },
  {
   "cell_type": "code",
   "execution_count": 5,
   "metadata": {},
   "outputs": [],
   "source": [
    "insert_database(new_student_path)"
   ]
  },
  {
   "attachments": {},
   "cell_type": "markdown",
   "metadata": {},
   "source": [
    "## 1-5: Prepared select statement "
   ]
  },
  {
   "cell_type": "code",
   "execution_count": 6,
   "metadata": {},
   "outputs": [
    {
     "name": "stdout",
     "output_type": "stream",
     "text": [
      "('旁聽生', '電機所', 2, 'R10123456', '小紅', 'r10123456@ntu.edu.tw', '資料庫系統-從SQL到NoSQL (EE5178)')\n",
      "('學生', '物理系', 3, 'B09987653', '小黃', 'b09987653@ntu.edu.tw', '資料庫系統-從SQL到NoSQL (EE5178)')\n",
      "('觀察者', '電信所', 1, 'R11123001', '小綠', 'r11123001@ntu.edu.tw', '資料庫系統-從SQL到NoSQL (EE5178)')\n"
     ]
    }
   ],
   "source": [
    "pcursor = mydb.cursor(prepared=True)\n",
    "\n",
    "STMT = \"SELECT * FROM students WHERE stuID = %s\"\n",
    "pcursor.execute(STMT, ('R10123456',))\n",
    "result_set = pcursor.fetchall()\n",
    "for i in result_set:\n",
    "    print(i)\n",
    "\n",
    "pcursor.execute(STMT, ('B09987653',))\n",
    "result_set = pcursor.fetchall()\n",
    "for i in result_set:\n",
    "    print(i)\n",
    "\n",
    "pcursor.execute(STMT, ('R11123001',))\n",
    "result_set = pcursor.fetchall()\n",
    "for i in result_set:\n",
    "    print(i)\n",
    "\n",
    "pcursor.close()\n"
   ]
  },
  {
   "attachments": {},
   "cell_type": "markdown",
   "metadata": {},
   "source": [
    "## 1-6: Group information"
   ]
  },
  {
   "cell_type": "code",
   "execution_count": 7,
   "metadata": {},
   "outputs": [
    {
     "name": "stdout",
     "output_type": "stream",
     "text": [
      "('特優生', '生醫電資所', 1, 'R10945002', '林柏詠 (LIN, BO-YONG)', 'r10945002@ntu.edu.tw', '資料庫系統-從SQL到NoSQL (EE5178)', 8, 'Y')\n",
      "('學生', '生醫電資所', 1, 'R11945005', '郭庭沂 (KUO,TING-YI)', 'r11945005@ntu.edu.tw', '資料庫系統-從SQL到NoSQL (EE5178)', 8, 'N')\n",
      "('學生', '生醫電資所', 1, 'R11945018', '曾于瑄 (YU-HSUAN TSENG)', 'r11945018@ntu.edu.tw', '資料庫系統-從SQL到NoSQL (EE5178)', 8, 'N')\n",
      "('學生', '生醫電資所', 1, 'R11945044', '張瑜倢 (ZHANG, YU-JIE)', 'r11945044@ntu.edu.tw', '資料庫系統-從SQL到NoSQL (EE5178)', 8, 'N')\n"
     ]
    }
   ],
   "source": [
    "# add two new columns\n",
    "mycursor.execute(\n",
    "    \"ALTER TABLE `students`\"\n",
    "    \"ADD `final_group` INT,\"\n",
    "    \"ADD `final_captain` VARCHAR(1)\")\n",
    "\n",
    "# update the final_group and final_captain columns\n",
    "mycursor.execute(\"UPDATE students SET final_group = '8', final_captain = 'Y' WHERE stuID = 'r10945002'\")\n",
    "\n",
    "mycursor.execute(\"UPDATE students SET final_group = '8', final_captain = 'N' WHERE stuID IN ('r11945005', 'r11945044', 'r11945018')\")\n",
    "\n",
    "mycursor.execute(\"UPDATE students SET final_group = '0', final_captain = '0' WHERE final_group IS NULL\")\n",
    "mydb.commit()\n",
    "\n",
    "mycursor.execute(\"SELECT * FROM students where final_group = '8'\")\n",
    "\n",
    "for i in mycursor:\n",
    "    print(i)\n",
    "\n",
    "mycursor.close()\n",
    "mydb.close()\n"
   ]
  }
 ],
 "metadata": {
  "kernelspec": {
   "display_name": "ta_hw4",
   "language": "python",
   "name": "python3"
  },
  "language_info": {
   "codemirror_mode": {
    "name": "ipython",
    "version": 3
   },
   "file_extension": ".py",
   "mimetype": "text/x-python",
   "name": "python",
   "nbconvert_exporter": "python",
   "pygments_lexer": "ipython3",
   "version": "3.10.11"
  },
  "orig_nbformat": 4
 },
 "nbformat": 4,
 "nbformat_minor": 2
}
