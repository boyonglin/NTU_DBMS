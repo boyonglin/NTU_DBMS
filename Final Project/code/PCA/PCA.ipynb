{
 "cells": [
  {
   "attachments": {},
   "cell_type": "markdown",
   "metadata": {},
   "source": [
    "## Connect MySQL"
   ]
  },
  {
   "cell_type": "code",
   "execution_count": 1,
   "metadata": {},
   "outputs": [],
   "source": [
    "import json\n",
    "import mysql.connector\n",
    "import getpass\n",
    "\n",
    "with open('config.json') as f:\n",
    "    config = json.load(f)\n",
    "\n",
    "host_name = config['host']\n",
    "user_name = config['user']\n",
    "passwd = getpass.getpass(prompt='Enter your password: ')"
   ]
  },
  {
   "attachments": {},
   "cell_type": "markdown",
   "metadata": {},
   "source": [
    "## Dump data from csv to DB"
   ]
  },
  {
   "cell_type": "code",
   "execution_count": 16,
   "metadata": {},
   "outputs": [],
   "source": [
    "import pandas as pd\n",
    "\n",
    "cnx = mysql.connector.connect(user=user_name, password=passwd, host=host_name)\n",
    "\n",
    "cursor = cnx.cursor()\n",
    "cursor.execute(\"DROP DATABASE IF EXISTS db_wine\")\n",
    "cursor.execute(\"CREATE DATABASE IF NOT EXISTS db_wine\")\n",
    "cursor.execute(\"USE db_wine\")\n",
    "\n",
    "# Define the table name and columns\n",
    "table_name = 'wine'\n",
    "header = ['Class', 'Alcohol', 'Malicacid', 'Ash', 'Alcalinity_of_ash', 'Magnesium', 'Total_phenols', 'Flavanoids', 'Nonflavanoid_phenols', 'Proanthocyanins', 'Color_intensity', 'Hue', 'diluted_wines', 'Proline']  # wine-data\n",
    "# header = ['Sepal_length', 'Sepal_width', 'Petal_length', 'Petal_width', 'Class']  # iris-data\n",
    "# header = ['Area', 'Perimeter', 'Major_axis_length', 'Minor_axis_length', 'Aspect_ration', 'Eccentricity', 'Convex_area', 'Equiv_diameter', 'Extent', 'Solidity', 'Roundness', 'Compactness', 'Shape_factor_1', 'Shape_factor_2', 'Shape_factor_3', 'Shape_factor_4', 'Class']  # dry-bean-data\n",
    "columns = ', '.join([f\"`{column}` VARCHAR(255)\" for column in header])\n",
    "\n",
    "# Create the table\n",
    "create_table_query = f\"CREATE TABLE `{table_name}` ({columns}) ENGINE=InnoDB\"\n",
    "cursor.execute(create_table_query)\n",
    "\n",
    "csv_path = config['csv_path']\n",
    "df = pd.read_csv(csv_path)\n",
    "\n",
    "# Insert the data into the table\n",
    "for _, row in df.iterrows():\n",
    "    values = \", \".join([f\"'{str(value)}'\" for value in row])\n",
    "    insert_query = f\"INSERT INTO `{table_name}` VALUES ({values})\"\n",
    "    cursor.execute(insert_query)\n",
    "\n",
    "# Commit the changes and close the connection\n",
    "cnx.commit()\n"
   ]
  },
  {
   "attachments": {},
   "cell_type": "markdown",
   "metadata": {},
   "source": [
    "## Select data into DataFrame"
   ]
  },
  {
   "cell_type": "code",
   "execution_count": 3,
   "metadata": {},
   "outputs": [
    {
     "name": "stdout",
     "output_type": "stream",
     "text": [
      "    Class Alcohol Malicacid   Ash Alcalinity_of_ash Magnesium Total_phenols   \n",
      "0     1.0    13.2      1.78  2.14              11.2     100.0          2.65  \\\n",
      "1     1.0   13.16      2.36  2.67              18.6     101.0           2.8   \n",
      "2     1.0   14.37      1.95   2.5              16.8     113.0          3.85   \n",
      "3     1.0   13.24      2.59  2.87              21.0     118.0           2.8   \n",
      "4     1.0    14.2      1.76  2.45              15.2     112.0          3.27   \n",
      "..    ...     ...       ...   ...               ...       ...           ...   \n",
      "172   3.0   13.71      5.65  2.45              20.5      95.0          1.68   \n",
      "173   3.0    13.4      3.91  2.48              23.0     102.0           1.8   \n",
      "174   3.0   13.27      4.28  2.26              20.0     120.0          1.59   \n",
      "175   3.0   13.17      2.59  2.37              20.0     120.0          1.65   \n",
      "176   3.0   14.13       4.1  2.74              24.5      96.0          2.05   \n",
      "\n",
      "    Flavanoids Nonflavanoid_phenols Proanthocyanins Color_intensity   Hue   \n",
      "0         2.76                 0.26            1.28            4.38  1.05  \\\n",
      "1         3.24                  0.3            2.81            5.68  1.03   \n",
      "2         3.49                 0.24            2.18             7.8  0.86   \n",
      "3         2.69                 0.39            1.82            4.32  1.04   \n",
      "4         3.39                 0.34            1.97            6.75  1.05   \n",
      "..         ...                  ...             ...             ...   ...   \n",
      "172       0.61                 0.52            1.06             7.7  0.64   \n",
      "173       0.75                 0.43            1.41             7.3   0.7   \n",
      "174       0.69                 0.43            1.35            10.2  0.59   \n",
      "175       0.68                 0.53            1.46             9.3   0.6   \n",
      "176       0.76                 0.56            1.35             9.2  0.61   \n",
      "\n",
      "    diluted_wines Proline  \n",
      "0             3.4  1050.0  \n",
      "1            3.17  1185.0  \n",
      "2            3.45  1480.0  \n",
      "3            2.93   735.0  \n",
      "4            2.85  1450.0  \n",
      "..            ...     ...  \n",
      "172          1.74   740.0  \n",
      "173          1.56   750.0  \n",
      "174          1.56   835.0  \n",
      "175          1.62   840.0  \n",
      "176           1.6   560.0  \n",
      "\n",
      "[177 rows x 14 columns]\n"
     ]
    }
   ],
   "source": [
    "from sklearn.decomposition import PCA\n",
    "import numpy as np\n",
    "from sklearn.preprocessing import LabelEncoder\n",
    "import matplotlib.pyplot as plt\n",
    "\n",
    "# Execute a SELECT query to fetch data from the table\n",
    "select_query = f\"SELECT * FROM wine\"\n",
    "cursor.execute(select_query)\n",
    "\n",
    "# Fetch all the rows from the result set\n",
    "rows = cursor.fetchall()\n",
    "\n",
    "# Get the column names from the cursor description\n",
    "columns = [column[0] for column in cursor.description]\n",
    "\n",
    "# Convert the fetched data into a pandas DataFrame\n",
    "df = pd.DataFrame(rows, columns=columns)\n",
    "\n",
    "# Close the cursor and connection\n",
    "cursor.close()\n",
    "cnx.close()\n",
    "\n",
    "# Print the DataFrame\n",
    "print(df)"
   ]
  },
  {
   "attachments": {},
   "cell_type": "markdown",
   "metadata": {},
   "source": [
    "## Run PCA"
   ]
  },
  {
   "cell_type": "code",
   "execution_count": null,
   "metadata": {},
   "outputs": [],
   "source": [
    "# PCA analysis\n",
    "n_components = 3\n",
    "pca = PCA(n_components)  # specify dimensions for PCA\n",
    "class_var = df['Class']\n",
    "features = df.drop('Class', axis=1)  # Exclude the target variable 'Class' from the trait\n",
    "pca_result = pca.fit_transform(features)\n",
    "\n",
    "# Convert categorical variables to numerical representations\n",
    "label_encoder = LabelEncoder()\n",
    "class_encoded = label_encoder.fit_transform(class_var) + 1\n",
    "\n",
    "# explained variance ratio\n",
    "ind_var = [i*100 for i in sorted(pca.explained_variance_ratio_, reverse=True)]\n",
    "\n",
    "# cumulative explained variance ratio\n",
    "cum_var = np.cumsum(ind_var)\n",
    "print('Explained Variance Ratio:', ind_var)\n",
    "print('Cumulative Explained Variance Ratio:', cum_var)\n",
    "\n",
    "# plot the explained variance ratio\n",
    "with plt.style.context('seaborn-whitegrid'):\n",
    "    plt.bar(range(n_components), ind_var, alpha=0.5, align='center',\n",
    "            label='individual explained variance')\n",
    "    plt.step(range(n_components), cum_var, where='mid',\n",
    "             label='cumulative explained variance')\n",
    "    plt.ylabel('Explained Variance Ratio (%)')\n",
    "    plt.xlabel('Principal Components')\n",
    "    plt.xticks(range(n_components), range(1, n_components+1))\n",
    "    plt.legend(loc='best')\n",
    "\n",
    "    for i, v in enumerate(ind_var):\n",
    "        plt.text(i, v, str(round(v, 2)), ha='center', va='bottom')\n",
    "\n",
    "    plt.tight_layout()\n",
    "    plt.show()"
   ]
  },
  {
   "attachments": {},
   "cell_type": "markdown",
   "metadata": {},
   "source": [
    "## Plot Scatter Matrix"
   ]
  },
  {
   "cell_type": "code",
   "execution_count": null,
   "metadata": {},
   "outputs": [],
   "source": [
    "# Create DataFrame with principal components\n",
    "df_pca = pd.DataFrame(pca_result, columns=['PC1', 'PC2', 'PC3'])\n",
    "df_pca['Class'] = class_encoded\n",
    "\n",
    "print(df_pca.head())\n",
    "\n",
    "# Plot visualization charts using scatter matrix\n",
    "pd.plotting.scatter_matrix(df_pca, c=df_pca['Class'], figsize=(10, 10), marker='o', hist_kwds={'bins': 20})\n",
    "plt.show()"
   ]
  }
 ],
 "metadata": {
  "kernelspec": {
   "display_name": "Python 3",
   "language": "python",
   "name": "python3"
  },
  "language_info": {
   "codemirror_mode": {
    "name": "ipython",
    "version": 3
   },
   "file_extension": ".py",
   "mimetype": "text/x-python",
   "name": "python",
   "nbconvert_exporter": "python",
   "pygments_lexer": "ipython3",
   "version": "3.10.11"
  },
  "orig_nbformat": 4
 },
 "nbformat": 4,
 "nbformat_minor": 2
}
